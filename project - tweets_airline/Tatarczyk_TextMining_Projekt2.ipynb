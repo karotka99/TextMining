{
 "cells": [
  {
   "cell_type": "markdown",
   "metadata": {},
   "source": [
    "# Text Mining - project 2\n",
    "Karolina Tatarczyk "
   ]
  },
  {
   "cell_type": "code",
   "execution_count": null,
   "metadata": {},
   "outputs": [],
   "source": [
    "#!pip install -U nltk\n",
    "#!pip install tabulate"
   ]
  },
  {
   "cell_type": "code",
   "execution_count": null,
   "metadata": {},
   "outputs": [],
   "source": [
    "#pip install tensorflow"
   ]
  },
  {
   "cell_type": "markdown",
   "metadata": {},
   "source": [
    "## Imports"
   ]
  },
  {
   "cell_type": "markdown",
   "metadata": {},
   "source": [
    "Below are all the imports needed for text mining."
   ]
  },
  {
   "cell_type": "code",
   "execution_count": 1,
   "metadata": {},
   "outputs": [],
   "source": [
    "import nltk\n",
    "#nltk.download('stopwords')\n",
    "#nltk.download('punkt')\n",
    "\n",
    "from nltk.corpus import stopwords\n",
    "from nltk.tokenize import word_tokenize\n",
    "from nltk.stem import PorterStemmer\n",
    "import re\n",
    "from nltk.tokenize import word_tokenize\n",
    "\n",
    "from sklearn.feature_extraction.text import CountVectorizer\n",
    "\n",
    "from sklearn.feature_extraction.text import CountVectorizer, TfidfVectorizer\n",
    "import pandas as pd\n",
    "import numpy as np\n",
    "from tabulate import tabulate\n",
    "import matplotlib.pyplot as plt\n",
    "\n",
    "from sklearn import metrics, __all__\n",
    "from sklearn.ensemble import RandomForestClassifier, AdaBoostClassifier, BaggingClassifier\n",
    "from sklearn.model_selection import train_test_split\n",
    "from sklearn.svm import SVC\n",
    "from sklearn.tree import DecisionTreeClassifier\n",
    "\n",
    "from sklearn.metrics import classification_report, confusion_matrix\n",
    "import numpy as np; np.random.seed(0)\n",
    "import seaborn as sns; sns.set_theme()\n",
    "import tensorflow as tf\n",
    "\n",
    "import sklearn as sk\n",
    "from sklearn.neural_network import MLPClassifier"
   ]
  },
  {
   "cell_type": "markdown",
   "metadata": {},
   "source": [
    "# Preparing for data cleaning"
   ]
  },
  {
   "cell_type": "markdown",
   "metadata": {},
   "source": [
    "### Stop words\n",
    "This function is used to remove stop words from the text. Stop words are words that are very common and of little meaning (e.g. conjunctions) that do not affect the identification of the document.\n",
    "\n",
    "In the function at the beginning, a list of stop words, already implemented in python, was retrieved in English. Each word from the text is then analysed. It is added to the cleaned list in case the word is not in the list containing stop words."
   ]
  },
  {
   "cell_type": "code",
   "execution_count": 3,
   "metadata": {},
   "outputs": [],
   "source": [
    "def stopwords_function(text: str) -> str:\n",
    "\n",
    "    stop_words = stopwords.words('english')\n",
    "    #word_token = word_tokenize(text)\n",
    "    cleaned = [w for w in text if w not in stop_words]\n",
    "    return \" \".join(cleaned)"
   ]
  },
  {
   "cell_type": "markdown",
   "metadata": {},
   "source": [
    "### Stemming\n",
    "The following feature shows the process of removing the inflectional ending from a word leaving only the subject of the word. The process of removing endings has already been implemented in python. Therefore, a ready-made function was used.\n",
    "\n",
    "The text is converted to a list. Each subsequent sentence is then subjected to stemming. A list of consecutive words stemmed to the subject is returned."
   ]
  },
  {
   "cell_type": "code",
   "execution_count": 4,
   "metadata": {},
   "outputs": [],
   "source": [
    "def stemming_function(text: str) -> list:\n",
    "    stemming = PorterStemmer()\n",
    "    txt_list = list(text.split(\" \"))\n",
    "    stemmed_txt = []\n",
    "    for w in txt_list:\n",
    "        stemmed_txt.append(stemming.stem(w))\n",
    "    return stemmed_txt"
   ]
  },
  {
   "cell_type": "markdown",
   "metadata": {},
   "source": [
    "### Text cleaning\n",
    "The text must be cleared of unnecessary characters before analysis. This is why emoticons, numbers are removed - because we are analysing words, html commands, punctuation marks, whitespace characters here. All characters are also changed to lower case."
   ]
  },
  {
   "cell_type": "code",
   "execution_count": 5,
   "metadata": {},
   "outputs": [],
   "source": [
    "def clean_text(txt: str) -> str:\n",
    "    find_emoticons = re.findall(r\"[:;][-]?[/\\|\\)\\(><D]\", txt)\n",
    "    txt_low = txt.lower()\n",
    "    delete_numbers = re.sub(\"[0-9]+\", \"\", txt_low)\n",
    "    delete_html = re.sub(r'<.*?>', '', delete_numbers)\n",
    "    delete_punctuation = re.sub(r\"[^\\w\\s]\", \" \", delete_html)\n",
    "    delete_whitespace = delete_punctuation.strip()\n",
    "    clean_txt = delete_whitespace + ' '.join(find_emoticons)\n",
    "    return clean_txt"
   ]
  },
  {
   "cell_type": "markdown",
   "metadata": {},
   "source": [
    "### Text tokenizer\n",
    "In the text_tokeniser, the text undergoes cleaning using a previously implemented and described function. This is followed by tokenisation - converting the text into a list of words. In the next step, the previously mentioned stopwords were removed."
   ]
  },
  {
   "cell_type": "code",
   "execution_count": 6,
   "metadata": {},
   "outputs": [],
   "source": [
    "def text_tokenizer(text: str):\n",
    "\n",
    "    cleaned_text = clean_text(text)\n",
    "    tokens = word_tokenize(cleaned_text)\n",
    "    without_stopwords =stopwords_function(tokens)\n",
    "    stemmed_text = stemming_function(without_stopwords)\n",
    "\n",
    "    return [w for w in stemmed_text if len(w) > 3]"
   ]
  },
  {
   "cell_type": "markdown",
   "metadata": {},
   "source": [
    "# Data loading"
   ]
  },
  {
   "cell_type": "code",
   "execution_count": 12,
   "metadata": {},
   "outputs": [
    {
     "data": {
      "text/html": [
       "<div>\n",
       "<style scoped>\n",
       "    .dataframe tbody tr th:only-of-type {\n",
       "        vertical-align: middle;\n",
       "    }\n",
       "\n",
       "    .dataframe tbody tr th {\n",
       "        vertical-align: top;\n",
       "    }\n",
       "\n",
       "    .dataframe thead th {\n",
       "        text-align: right;\n",
       "    }\n",
       "</style>\n",
       "<table border=\"1\" class=\"dataframe\">\n",
       "  <thead>\n",
       "    <tr style=\"text-align: right;\">\n",
       "      <th></th>\n",
       "      <th>airline_sentiment</th>\n",
       "      <th>text</th>\n",
       "    </tr>\n",
       "  </thead>\n",
       "  <tbody>\n",
       "    <tr>\n",
       "      <th>0</th>\n",
       "      <td>neutral</td>\n",
       "      <td>@VirginAmerica What @dhepburn said.</td>\n",
       "    </tr>\n",
       "    <tr>\n",
       "      <th>1</th>\n",
       "      <td>positive</td>\n",
       "      <td>@VirginAmerica plus you've added commercials t...</td>\n",
       "    </tr>\n",
       "    <tr>\n",
       "      <th>2</th>\n",
       "      <td>neutral</td>\n",
       "      <td>@VirginAmerica I didn't today... Must mean I n...</td>\n",
       "    </tr>\n",
       "    <tr>\n",
       "      <th>3</th>\n",
       "      <td>negative</td>\n",
       "      <td>@VirginAmerica it's really aggressive to blast...</td>\n",
       "    </tr>\n",
       "    <tr>\n",
       "      <th>4</th>\n",
       "      <td>negative</td>\n",
       "      <td>@VirginAmerica and it's a really big bad thing...</td>\n",
       "    </tr>\n",
       "    <tr>\n",
       "      <th>...</th>\n",
       "      <td>...</td>\n",
       "      <td>...</td>\n",
       "    </tr>\n",
       "    <tr>\n",
       "      <th>14635</th>\n",
       "      <td>positive</td>\n",
       "      <td>@AmericanAir thank you we got on a different f...</td>\n",
       "    </tr>\n",
       "    <tr>\n",
       "      <th>14636</th>\n",
       "      <td>negative</td>\n",
       "      <td>@AmericanAir leaving over 20 minutes Late Flig...</td>\n",
       "    </tr>\n",
       "    <tr>\n",
       "      <th>14637</th>\n",
       "      <td>neutral</td>\n",
       "      <td>@AmericanAir Please bring American Airlines to...</td>\n",
       "    </tr>\n",
       "    <tr>\n",
       "      <th>14638</th>\n",
       "      <td>negative</td>\n",
       "      <td>@AmericanAir you have my money, you change my ...</td>\n",
       "    </tr>\n",
       "    <tr>\n",
       "      <th>14639</th>\n",
       "      <td>neutral</td>\n",
       "      <td>@AmericanAir we have 8 ppl so we need 2 know h...</td>\n",
       "    </tr>\n",
       "  </tbody>\n",
       "</table>\n",
       "<p>14640 rows × 2 columns</p>\n",
       "</div>"
      ],
      "text/plain": [
       "      airline_sentiment                                               text\n",
       "0               neutral                @VirginAmerica What @dhepburn said.\n",
       "1              positive  @VirginAmerica plus you've added commercials t...\n",
       "2               neutral  @VirginAmerica I didn't today... Must mean I n...\n",
       "3              negative  @VirginAmerica it's really aggressive to blast...\n",
       "4              negative  @VirginAmerica and it's a really big bad thing...\n",
       "...                 ...                                                ...\n",
       "14635          positive  @AmericanAir thank you we got on a different f...\n",
       "14636          negative  @AmericanAir leaving over 20 minutes Late Flig...\n",
       "14637           neutral  @AmericanAir Please bring American Airlines to...\n",
       "14638          negative  @AmericanAir you have my money, you change my ...\n",
       "14639           neutral  @AmericanAir we have 8 ppl so we need 2 know h...\n",
       "\n",
       "[14640 rows x 2 columns]"
      ]
     },
     "execution_count": 12,
     "metadata": {},
     "output_type": "execute_result"
    }
   ],
   "source": [
    "#import pandas as pd\n",
    "\n",
    "dataset_titles = pd.read_csv('tweets_airline.csv', usecols=['text', 'airline_sentiment'])\n",
    "#print(dataset_titles)\n",
    "dataset_titles = dataset_titles.dropna()\n",
    "sample=dataset_titles['text']\n",
    "dataset_titles"
   ]
  },
  {
   "cell_type": "markdown",
   "metadata": {},
   "source": [
    "# Data exploration\n",
    "\n",
    "Distribution of movies depending on scores. "
   ]
  },
  {
   "cell_type": "code",
   "execution_count": 25,
   "metadata": {},
   "outputs": [
    {
     "data": {
      "image/png": "[encoded data removed]",
      "text/plain": [
       "<Figure size 864x432 with 1 Axes>"
      ]
     },
     "metadata": {},
     "output_type": "display_data"
    }
   ],
   "source": [
    "plt.figure(figsize=(12,6))\n",
    "plt.title(\"Number of tweets with each sentiment\")\n",
    "colors = ['#833864','#648338','#386483']\n",
    "\n",
    "dataset_titles['airline_sentiment'].value_counts().sort_index().plot.bar(color=colors)\n",
    "plt.xlabel(\"Sentiment\")\n",
    "plt.ylabel(\"Count\")\n",
    "plt.show()"
   ]
  },
  {
   "cell_type": "markdown",
   "metadata": {},
   "source": [
    "## Classifications"
   ]
  },
  {
   "cell_type": "code",
   "execution_count": 18,
   "metadata": {},
   "outputs": [],
   "source": [
    "dataset_vector, dataset_titles_1 = vectorizing(dataset_titles['text'])"
   ]
  },
  {
   "cell_type": "markdown",
   "metadata": {},
   "source": [
    "### Dividing into training and testing set"
   ]
  },
  {
   "cell_type": "code",
   "execution_count": 19,
   "metadata": {},
   "outputs": [],
   "source": [
    "X_train, X_test, y_train, y_test = train_test_split(dataset_titles['text'], dataset_titles['airline_sentiment'], test_size=0.33,\n",
    "                                                    random_state=42)\n",
    "\n",
    "X_train_vector, X_train_titles = vectorizing_voc(X_train, dataset_titles_1)\n",
    "X_test_vector, X_test_titles = vectorizing_voc(X_test, dataset_titles_1)"
   ]
  },
  {
   "cell_type": "markdown",
   "metadata": {},
   "source": [
    "### Decision Tree Classifier\n",
    "A decision tree classifier works by creating a tree-like model of decisions, with each internal node representing a test on an attribute, each branch representing the outcome of the test, and each leaf node representing a class label. The goal is to split the data into smaller subsets, each containing similar instances, by making decisions based on the values of the input features.\n",
    "\n",
    "The process of splitting continues until it reaches a stopping criterion, such as reaching a maximum depth or a minimum number of instances in a leaf node. The final output is a tree of decisions, where each path from the root to a leaf node represents a classification rule.\n",
    "\n",
    "The decision tree classifier can be prone to overfitting, especially when the tree becomes too deep and complex.\n",
    "\n",
    "Accuracy and heatmap representing the classification"
   ]
  },
  {
   "cell_type": "code",
   "execution_count": 20,
   "metadata": {},
   "outputs": [
    {
     "name": "stdout",
     "output_type": "stream",
     "text": [
      "Accuracy DTC: 0.6885347682119205\n"
     ]
    },
    {
     "data": {
      "image/png": "[encoded data removed]",
      "text/plain": [
       "<Figure size 432x288 with 2 Axes>"
      ]
     },
     "metadata": {},
     "output_type": "display_data"
    }
   ],
   "source": [
    "DTC = DecisionTreeClassifier()\n",
    "DTC.fit(X_train_vector, y_train)\n",
    "y_pred = DTC.predict(X_test_vector)\n",
    "print(\"Accuracy DTC:\", metrics.accuracy_score(y_test, y_pred))\n",
    "uniform_data = np.random.rand(10, 12)\n",
    "axis_labels = [\"negative\", \"neutral\", \"positive\"] \n",
    "\n",
    "# create seabvorn heatmap with required labels\n",
    "ax = sns.heatmap(confusion_matrix(y_test, y_pred),cmap=\"Wistia\",xticklabels=axis_labels, yticklabels=axis_labels,annot=True,fmt=\"d\")"
   ]
  },
  {
   "cell_type": "code",
   "execution_count": 40,
   "metadata": {},
   "outputs": [
    {
     "name": "stdout",
     "output_type": "stream",
     "text": [
      "DTC model \n",
      "               precision    recall  f1-score   support\n",
      "\n",
      "    negative       0.82      0.77      0.79      3085\n",
      "     neutral       0.44      0.52      0.47       984\n",
      "    positive       0.58      0.57      0.57       763\n",
      "\n",
      "    accuracy                           0.69      4832\n",
      "   macro avg       0.61      0.62      0.61      4832\n",
      "weighted avg       0.70      0.69      0.69      4832\n",
      "\n"
     ]
    }
   ],
   "source": [
    "print(f'DTC model \\n {classification_report(y_test, y_pred)}')"
   ]
  },
  {
   "cell_type": "markdown",
   "metadata": {},
   "source": [
    "The accuracy of the classifier is 69%. The classifier most often correctly classifies negative comments, and consequently there is also the best precision for the decision attribute \"Negative\". However, it should be noted that the training set contains more than 3,000 records with the sentiment negative."
   ]
  },
  {
   "cell_type": "markdown",
   "metadata": {},
   "source": [
    "### Random Forest Classifier"
   ]
  },
  {
   "cell_type": "markdown",
   "metadata": {},
   "source": [
    "Random forest classifier combines multiple decision trees, trained on different subsets of the data, to improve the overall performance and reduce overfitting.\n",
    "\n",
    "The basic idea behind random forests is to create many decision trees using random subsets of the training data, and then aggregate their predictions to make the final decision. Each tree in the forest is trained using a different random subset of the data, and a different random subset of the features, which helps to reduce the correlation between the trees and increase the diversity of the ensemble.\n",
    "\n",
    "In the prediction stage, the random forest classifier aggregates the predictions of all the trees by taking the majority vote for classification tasks."
   ]
  },
  {
   "cell_type": "code",
   "execution_count": 21,
   "metadata": {},
   "outputs": [
    {
     "name": "stdout",
     "output_type": "stream",
     "text": [
      "Accuracy RFC: 0.7642798013245033\n",
      "Accuracy another way: 0.7642798013245033\n"
     ]
    }
   ],
   "source": [
    "RFC = RandomForestClassifier()\n",
    "RFC.fit(X_train_vector, y_train)\n",
    "y_pred = RFC.predict(X_test_vector)\n",
    "print(\"Accuracy RFC:\", metrics.accuracy_score(y_test, y_pred))"
   ]
  },
  {
   "cell_type": "code",
   "execution_count": 23,
   "metadata": {},
   "outputs": [
    {
     "name": "stdout",
     "output_type": "stream",
     "text": [
      "RFC model \n",
      "               precision    recall  f1-score   support\n",
      "\n",
      "    negative       0.83      0.88      0.85      3085\n",
      "     neutral       0.57      0.51      0.54       984\n",
      "    positive       0.72      0.62      0.66       763\n",
      "\n",
      "    accuracy                           0.76      4832\n",
      "   macro avg       0.70      0.67      0.68      4832\n",
      "weighted avg       0.76      0.76      0.76      4832\n",
      "\n"
     ]
    },
    {
     "data": {
      "image/png": "[encoded data removed]",
      "text/plain": [
       "<Figure size 432x288 with 2 Axes>"
      ]
     },
     "metadata": {},
     "output_type": "display_data"
    }
   ],
   "source": [
    "ax = sns.heatmap(confusion_matrix(y_test, y_pred),cmap=\"RdPu\",xticklabels=axis_labels, yticklabels=axis_labels,annot=True,fmt=\"d\")\n",
    "print(f'RFC model \\n {classification_report(y_test, y_pred)}')"
   ]
  },
  {
   "cell_type": "markdown",
   "metadata": {},
   "source": [
    "In this case, the precision is equal to 76%. Also in this classifier, negative comments were best classified with a precision of 83%."
   ]
  },
  {
   "cell_type": "markdown",
   "metadata": {},
   "source": [
    "### AdaBoost Classifier\n",
    "AdaBoost (Adaptive Boosting) combines multiple \"weak\" classifiers to create a \"strong\" classifier that can make accurate predictions. The key idea behind AdaBoost is to give more weight to the samples that are difficult to classify, so that the weak classifiers can focus on the most important examples.\n",
    "\n",
    "The training process starts with a weak classifier, such as a decision tree with a small depth, that is trained on the entire dataset. The misclassified samples are then given a higher weight, and a new weak classifier is trained on the updated weights. This process is repeated multiple times, with the weight of the misclassified samples being increased after each iteration. The final output is a combination of the weak classifiers, where each classifier is assigned a weight based on its accuracy.\n",
    "\n",
    "AdaBoost is a simple and effective algorithm, it often produces better results than single weak classifiers, and it's relatively resistant to overfitting. \n",
    "\n",
    "It can be sensitive to noisy data and outliers, and it can also be affected by the choice of the weak classifier and the number of iterations. However, with the right choice of weak classifier and the appropriate parameter tuning, it can perform well in many classification tasks."
   ]
  },
  {
   "cell_type": "code",
   "execution_count": 24,
   "metadata": {},
   "outputs": [
    {
     "name": "stdout",
     "output_type": "stream",
     "text": [
      "Accuracy ABC: 0.7195778145695364\n",
      "ABC model \n",
      "               precision    recall  f1-score   support\n",
      "\n",
      "    negative       0.80      0.84      0.82      3085\n",
      "     neutral       0.47      0.41      0.44       984\n",
      "    positive       0.67      0.62      0.64       763\n",
      "\n",
      "    accuracy                           0.72      4832\n",
      "   macro avg       0.65      0.62      0.63      4832\n",
      "weighted avg       0.71      0.72      0.71      4832\n",
      "\n"
     ]
    },
    {
     "data": {
      "image/png": "[encoded data removed]",
      "text/plain": [
       "<Figure size 432x288 with 2 Axes>"
      ]
     },
     "metadata": {},
     "output_type": "display_data"
    }
   ],
   "source": [
    "ABC = AdaBoostClassifier()\n",
    "ABC.fit(X_train_vector, y_train)\n",
    "y_pred = ABC.predict(X_test_vector)\n",
    "print(\"Accuracy ABC:\", metrics.accuracy_score(y_test, y_pred))\n",
    "ax = sns.heatmap(confusion_matrix(y_test, y_pred),cmap=\"RdPu\",xticklabels=axis_labels, yticklabels=axis_labels,annot=True,fmt=\"d\")\n",
    "print(f'ABC model \\n {classification_report(y_test, y_pred)}')"
   ]
  }
 ],
 "metadata": {
  "kernelspec": {
   "display_name": "Python 3",
   "language": "python",
   "name": "python3"
  },
  "language_info": {
   "codemirror_mode": {
    "name": "ipython",
    "version": 3
   },
   "file_extension": ".py",
   "mimetype": "text/x-python",
   "name": "python",
   "nbconvert_exporter": "python",
   "pygments_lexer": "ipython3",
   "version": "3.8.3"
  }
 },
 "nbformat": 4,
 "nbformat_minor": 5
}
